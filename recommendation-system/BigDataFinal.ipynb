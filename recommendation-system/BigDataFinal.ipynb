{
 "cells": [
  {
   "cell_type": "markdown",
   "id": "0d2f7544-8e24-40b1-a685-135216225471",
   "metadata": {
    "tags": []
   },
   "source": [
    "# 201805071 BATUHAN EMRE YEŞİLYAYLA\n",
    "# 201805050 BERK OĞUZ\n",
    "# BİG DATA FİNAL PROJESİ"
   ]
  },
  {
   "cell_type": "code",
   "execution_count": 1,
   "id": "6c2e28e9-383b-44e9-aca7-64e50514623c",
   "metadata": {
    "tags": []
   },
   "outputs": [
    {
     "name": "stdout",
     "output_type": "stream",
     "text": [
      "Collecting findspark\n",
      "  Downloading findspark-2.0.1-py2.py3-none-any.whl.metadata (352 bytes)\n",
      "Downloading findspark-2.0.1-py2.py3-none-any.whl (4.4 kB)\n",
      "Installing collected packages: findspark\n",
      "Successfully installed findspark-2.0.1\n",
      "Requirement already satisfied: psutil in /opt/conda/lib/python3.11/site-packages (5.9.5)\n",
      "Hostname:  16fa0927b362\n",
      "IP Address:  172.18.0.2\n",
      "Computer Name:  16fa0927b362\n",
      "System Info: \n",
      "  System: Linux\n",
      "  Node Name: 16fa0927b362\n",
      "  Release: 5.15.167.4-microsoft-standard-WSL2\n",
      "  Version: #1 SMP Tue Nov 5 00:21:55 UTC 2024\n",
      "  Machine: x86_64\n",
      "  Processor: x86_64\n",
      "CPU Info:  x86_64\n"
     ]
    }
   ],
   "source": [
    "!pip install findspark\n",
    "!pip install psutil\n",
    "\n",
    "import platform\n",
    "import socket\n",
    "\n",
    "hostname = socket.gethostname()\n",
    "ip_address = socket.gethostbyname(hostname)\n",
    "computer_name = platform.node()\n",
    "system_info = platform.uname()\n",
    "cpu_info = platform.processor()\n",
    "\n",
    "print(\"Hostname: \", hostname)\n",
    "print(\"IP Address: \", ip_address)\n",
    "print(\"Computer Name: \", computer_name)\n",
    "print(\"System Info: \")\n",
    "print(f\"  System: {system_info.system}\")\n",
    "print(f\"  Node Name: {system_info.node}\")\n",
    "print(f\"  Release: {system_info.release}\")\n",
    "print(f\"  Version: {system_info.version}\")\n",
    "print(f\"  Machine: {system_info.machine}\")\n",
    "print(f\"  Processor: {system_info.processor}\")\n",
    "print(\"CPU Info: \", cpu_info)\n"
   ]
  },
  {
   "cell_type": "code",
   "execution_count": 2,
   "id": "d1a5f846-892e-4128-9451-ffc12e333623",
   "metadata": {
    "tags": []
   },
   "outputs": [],
   "source": [
    "import findspark\n",
    "findspark.init()\n",
    "import pyspark \n",
    "\n",
    "from pyspark import SparkContext\n",
    "import pyspark\n",
    "from pyspark.sql import SparkSession\n",
    "from pyspark.conf import SparkConf"
   ]
  },
  {
   "cell_type": "code",
   "execution_count": 3,
   "id": "fb36ee93-7915-45d1-8082-ff00a89e1414",
   "metadata": {
    "tags": []
   },
   "outputs": [
    {
     "data": {
      "text/html": [
       "\n",
       "        <div>\n",
       "            <p><b>SparkContext</b></p>\n",
       "\n",
       "            <p><a href=\"http://16fa0927b362:4040\">Spark UI</a></p>\n",
       "\n",
       "            <dl>\n",
       "              <dt>Version</dt>\n",
       "                <dd><code>v3.5.0</code></dd>\n",
       "              <dt>Master</dt>\n",
       "                <dd><code>local[*]</code></dd>\n",
       "              <dt>AppName</dt>\n",
       "                <dd><code>Spark Recommend System</code></dd>\n",
       "            </dl>\n",
       "        </div>\n",
       "        "
      ],
      "text/plain": [
       "<SparkContext master=local[*] appName=Spark Recommend System>"
      ]
     },
     "execution_count": 3,
     "metadata": {},
     "output_type": "execute_result"
    }
   ],
   "source": [
    "from pyspark.ml.recommendation import ALS\n",
    "\n",
    "appName = \"Spark Recommend System\"\n",
    "spark = SparkSession \\\n",
    "    .builder \\\n",
    "    .appName(appName) \\\n",
    "    .config(\"spark.some.config.option\", \"some-value\") \\\n",
    "    .getOrCreate()\n",
    "\n",
    "sc=spark.sparkContext\n",
    "sc"
   ]
  },
  {
   "cell_type": "code",
   "execution_count": 4,
   "id": "9ce4607a-a8b3-4071-a5f6-6e11a307f603",
   "metadata": {
    "tags": []
   },
   "outputs": [],
   "source": [
    "books = spark.read.csv('Books.csv', inferSchema=True, header=True)\n",
    "users = spark.read.csv('Users.csv', inferSchema=True, header=True)\n",
    "ratings = spark.read.csv('Ratings.csv', inferSchema=True, header=True)"
   ]
  },
  {
   "cell_type": "markdown",
   "id": "7d363d23-ddbb-4e01-8b7c-908fcca3640a",
   "metadata": {},
   "source": [
    "## 1)PREPROCESSİNG"
   ]
  },
  {
   "cell_type": "code",
   "execution_count": 5,
   "id": "0e346f86-1ddc-4ee8-be54-884f0a777481",
   "metadata": {
    "tags": []
   },
   "outputs": [
    {
     "name": "stdout",
     "output_type": "stream",
     "text": [
      "+----------+--------------------+-------------------+-------------------+--------------------+\n",
      "|      ISBN|          Book-Title|        Book-Author|Year-Of-Publication|           Publisher|\n",
      "+----------+--------------------+-------------------+-------------------+--------------------+\n",
      "|0590567330| A Light in the S...|        Karen Hesse|               1999|Hyperion Books fo...|\n",
      "|0451205480| Murder of a Slee...|     Denise Swanson|               2002|         Signet Book|\n",
      "|0671019155| Q-Space (Star Tr...|           Greg Cox|               1998|           Star Trek|\n",
      "|0440987261| This Place Has N...|     Paula Danziger|               1987|Random House Chil...|\n",
      "|0452279186|                !Yo!|      Julia Alvarez|               1997|         Plume Books|\n",
      "|0060169419|\"A Wing and a Pra...|    Harry H. Crosby|               1993|       Harpercollins|\n",
      "|0237519984|\"Active Drama Pla...|     Sheree Vickers|               1999|  Evans Brothers Ltd|\n",
      "|0486205371|\"Best \\Thinking M...|   Jacques Futrelle|               1974|         Dover Pubns|\n",
      "|8423991318|\"Deslices histÃ³r...|MarÃ­a JosÃ© Voltes|               1996|              Espasa|\n",
      "|0743451791|\"Devil in a Blue ...|      Walter Mosley|               2002|Washington Square...|\n",
      "+----------+--------------------+-------------------+-------------------+--------------------+\n",
      "only showing top 10 rows\n",
      "\n"
     ]
    }
   ],
   "source": [
    "books=books.drop(\"Image-URL-S\")\n",
    "books=books.drop(\"Image-URL-M\")\n",
    "books=books.drop(\"Image-URL-L\")\n",
    "\n",
    "books=books.dropna()\n",
    "books=books.dropDuplicates(subset=[\"Book-Title\"])\n",
    "books.show(10)"
   ]
  },
  {
   "cell_type": "code",
   "execution_count": 6,
   "id": "17ead443-97b6-49f2-bcac-6d0a9c3b0c85",
   "metadata": {
    "tags": []
   },
   "outputs": [
    {
     "name": "stdout",
     "output_type": "stream",
     "text": [
      "         ISBN                                         Book-Title  \\\n",
      "0  0590567330   A Light in the Storm: The Civil War Diary of ...   \n",
      "1  0451205480   Murder of a Sleeping Beauty (Scumble River My...   \n",
      "2  0671019155   Q-Space (Star Trek The Next Generation, Book 47)   \n",
      "3  0440987261   This Place Has No Atmosphere (Laurel-Leaf Books)   \n",
      "4  0452279186                                               !Yo!   \n",
      "\n",
      "      Book-Author Year-Of-Publication                    Publisher  newISBN  \n",
      "0     Karen Hesse                1999  Hyperion Books for Children        0  \n",
      "1  Denise Swanson                2002                  Signet Book        1  \n",
      "2        Greg Cox                1998                    Star Trek        2  \n",
      "3  Paula Danziger                1987   Random House Childrens Pub        3  \n",
      "4   Julia Alvarez                1997                  Plume Books        4  \n"
     ]
    }
   ],
   "source": [
    "import pandas as pd\n",
    "\n",
    "books_pd=books.toPandas()\n",
    "isbn_mapping = {isbn: index for index, isbn in enumerate(books_pd['ISBN'].unique())}\n",
    "books_pd['newISBN'] = books_pd['ISBN'].map(isbn_mapping)\n",
    "print(books_pd.head())\n"
   ]
  },
  {
   "cell_type": "code",
   "execution_count": 7,
   "id": "38723e44-5891-4bf9-8d5a-fe828c876f8c",
   "metadata": {
    "tags": []
   },
   "outputs": [],
   "source": [
    "books_new=spark.createDataFrame(books_pd)"
   ]
  },
  {
   "cell_type": "code",
   "execution_count": 8,
   "id": "996cdb7f-5ea9-4f62-a984-8c1005cd58a0",
   "metadata": {
    "tags": []
   },
   "outputs": [
    {
     "name": "stdout",
     "output_type": "stream",
     "text": [
      "+----------+--------------------+-------------------+-------------------+--------------------+-------+\n",
      "|      ISBN|          Book-Title|        Book-Author|Year-Of-Publication|           Publisher|newISBN|\n",
      "+----------+--------------------+-------------------+-------------------+--------------------+-------+\n",
      "|0590567330| A Light in the S...|        Karen Hesse|               1999|Hyperion Books fo...|      0|\n",
      "|0451205480| Murder of a Slee...|     Denise Swanson|               2002|         Signet Book|      1|\n",
      "|0671019155| Q-Space (Star Tr...|           Greg Cox|               1998|           Star Trek|      2|\n",
      "|0440987261| This Place Has N...|     Paula Danziger|               1987|Random House Chil...|      3|\n",
      "|0452279186|                !Yo!|      Julia Alvarez|               1997|         Plume Books|      4|\n",
      "|0060169419|\"A Wing and a Pra...|    Harry H. Crosby|               1993|       Harpercollins|      5|\n",
      "|0237519984|\"Active Drama Pla...|     Sheree Vickers|               1999|  Evans Brothers Ltd|      6|\n",
      "|0486205371|\"Best \\Thinking M...|   Jacques Futrelle|               1974|         Dover Pubns|      7|\n",
      "|8423991318|\"Deslices histÃ³r...|MarÃ­a JosÃ© Voltes|               1996|              Espasa|      8|\n",
      "|0743451791|\"Devil in a Blue ...|      Walter Mosley|               2002|Washington Square...|      9|\n",
      "+----------+--------------------+-------------------+-------------------+--------------------+-------+\n",
      "only showing top 10 rows\n",
      "\n"
     ]
    }
   ],
   "source": [
    "books_new.show(10)\n"
   ]
  },
  {
   "cell_type": "code",
   "execution_count": 9,
   "id": "3ccbcfea-eb7b-48b1-ac63-187032e52b41",
   "metadata": {
    "tags": []
   },
   "outputs": [
    {
     "data": {
      "text/plain": [
       "242132"
      ]
     },
     "execution_count": 9,
     "metadata": {},
     "output_type": "execute_result"
    }
   ],
   "source": [
    "books_new.count()"
   ]
  },
  {
   "cell_type": "code",
   "execution_count": 10,
   "id": "184a9576-3435-49f6-b61e-e5c6caaedfbc",
   "metadata": {
    "tags": []
   },
   "outputs": [
    {
     "name": "stdout",
     "output_type": "stream",
     "text": [
      "+-------+--------------------+----+\n",
      "|User-ID|            Location| Age|\n",
      "+-------+--------------------+----+\n",
      "|    177|amsterdam, n/a, n...|46.0|\n",
      "|    342|sokoto, niedersac...|28.0|\n",
      "|    700|georgetown, n/a, ...|16.0|\n",
      "|    761|fuzhou, fujian, c...|30.0|\n",
      "|   1382|phoenix, arizona,...|33.0|\n",
      "|   1628|lagos, lagos, nig...|20.0|\n",
      "|   1845|fredericksburg, v...|34.0|\n",
      "|   2386|pittsboro, north ...|40.0|\n",
      "|   2471|quezon city, metr...|19.0|\n",
      "|   2494|hammer, wisconsin...|27.0|\n",
      "+-------+--------------------+----+\n",
      "only showing top 10 rows\n",
      "\n"
     ]
    },
    {
     "data": {
      "text/plain": [
       "168340"
      ]
     },
     "execution_count": 10,
     "metadata": {},
     "output_type": "execute_result"
    }
   ],
   "source": [
    "users=users.dropna()\n",
    "users=users.dropDuplicates()\n",
    "users.show(10)\n",
    "users.count()"
   ]
  },
  {
   "cell_type": "code",
   "execution_count": 11,
   "id": "e66166c5-eed5-4377-9b54-cb5d3a6606ce",
   "metadata": {
    "tags": []
   },
   "outputs": [
    {
     "name": "stdout",
     "output_type": "stream",
     "text": [
      "+-------+----------+-----------+\n",
      "|User-ID|      ISBN|Book-Rating|\n",
      "+-------+----------+-----------+\n",
      "| 276875|8806155873|          0|\n",
      "| 277042|0446611212|          8|\n",
      "| 277187|038528859X|          0|\n",
      "| 277195|006251170X|          0|\n",
      "| 277427|042514755X|          0|\n",
      "| 277427|0915943263|          0|\n",
      "| 277427|0930014464|          0|\n",
      "| 277478|034066049X|          0|\n",
      "| 277478|0440234743|          0|\n",
      "| 277478|0860685179|          0|\n",
      "+-------+----------+-----------+\n",
      "only showing top 10 rows\n",
      "\n"
     ]
    },
    {
     "data": {
      "text/plain": [
       "1149780"
      ]
     },
     "execution_count": 11,
     "metadata": {},
     "output_type": "execute_result"
    }
   ],
   "source": [
    "ratings=ratings.dropna()\n",
    "ratings=ratings.dropDuplicates()\n",
    "ratings.show(10)\n",
    "ratings.count()"
   ]
  },
  {
   "cell_type": "code",
   "execution_count": 12,
   "id": "6a69ff3d-c909-4b14-b022-a88c1128c353",
   "metadata": {
    "tags": []
   },
   "outputs": [
    {
     "name": "stdout",
     "output_type": "stream",
     "text": [
      "+----------+-------+-----------+--------------------+----------------+-------------------+--------------------+-------+\n",
      "|      ISBN|User-ID|Book-Rating|          Book-Title|     Book-Author|Year-Of-Publication|           Publisher|newISBN|\n",
      "+----------+-------+-----------+--------------------+----------------+-------------------+--------------------+-------+\n",
      "|0001048473|  23902|          0|Nothing Can Be Be...|Barns &amp; Budd|               1996|            Atlantic|  10691|\n",
      "|0001372564|  16319|          0|       Which Colour?|     Sue Dreamer|               1989|HarperCollins Pub...|  57662|\n",
      "|0001382381|  26583|          0|Huck Scarry's Ste...|     Huck Scarry|               1979|HarperCollins Pub...| 181082|\n",
      "|0001718126| 176062|          0|ARE YOU MY MOTHER...|           Seuss|               1993|HarperCollins Pub...| 194106|\n",
      "|0001840517| 114216|          0|                Bess|   Robert Leeson|               1975|             Collins|  79340|\n",
      "|0001848445|  11676|          0| THE COAL HOUSE T/PB|   Andrew Taylor|               1986|HarperCollins Pub...| 168501|\n",
      "|0001848445| 131402|          0| THE COAL HOUSE T/PB|   Andrew Taylor|               1986|HarperCollins Pub...| 168501|\n",
      "|0001848445| 145927|          0| THE COAL HOUSE T/PB|   Andrew Taylor|               1986|HarperCollins Pub...| 168501|\n",
      "|0001900277| 206979|          0|Glue (First Facts...|   Harriet Hains|               1989|HarperCollins Pub...|  25500|\n",
      "|0001900277|  11676|          0|Glue (First Facts...|   Harriet Hains|               1989|HarperCollins Pub...|  25500|\n",
      "+----------+-------+-----------+--------------------+----------------+-------------------+--------------------+-------+\n",
      "only showing top 10 rows\n",
      "\n"
     ]
    },
    {
     "data": {
      "text/plain": [
       "883075"
      ]
     },
     "execution_count": 12,
     "metadata": {},
     "output_type": "execute_result"
    }
   ],
   "source": [
    "spark_df=ratings.join(books_new,\"ISBN\")\n",
    "spark_df.show(10)\n",
    "spark_df.count()"
   ]
  },
  {
   "cell_type": "code",
   "execution_count": 13,
   "id": "f2b712ea-392e-42d8-9bc7-a01b10467985",
   "metadata": {
    "tags": []
   },
   "outputs": [],
   "source": [
    "spark_df=spark_df.dropna()"
   ]
  },
  {
   "cell_type": "code",
   "execution_count": 14,
   "id": "a388d962-866b-492b-bf3d-e94b4ad290b7",
   "metadata": {
    "tags": []
   },
   "outputs": [
    {
     "name": "stdout",
     "output_type": "stream",
     "text": [
      "+-------+----------+-----------+--------------------+--------------------+-------------------+--------------------+-------+--------------------+----+\n",
      "|User-ID|      ISBN|Book-Rating|          Book-Title|         Book-Author|Year-Of-Publication|           Publisher|newISBN|            Location| Age|\n",
      "+-------+----------+-----------+--------------------+--------------------+-------------------+--------------------+-------+--------------------+----+\n",
      "|     78|0394895894|          8|The Ruby in the S...|      PHILIP PULLMAN|               1988|         Laurel Leaf| 113631|oakland, californ...|18.0|\n",
      "|     85|0340767936|          5|      Turning Thirty|          Mike Gayle|               2000|Hodder &amp; Stou...| 191962|london, england, ...|41.0|\n",
      "|     85|0743403843|          0|            Decipher|         Stel Pavlou|               2002|Simon &amp; Schus...|   3979|london, england, ...|41.0|\n",
      "|    133|0345372700|         10|If I Ever Get Bac...|      LEWIS GRIZZARD|               1991|    Ballantine Books| 104195|jacksonville, flo...|45.0|\n",
      "|    133|0446325805|          0|If Love Were Oil,...|      Lewis Grizzard|               1994|   Warner Books (Mm)| 142840|jacksonville, flo...|45.0|\n",
      "|    133|0380619458|          0|  The Mosquito Coast|        Paul Theroux|               1990|Harper Mass Marke...|  74098|jacksonville, flo...|45.0|\n",
      "|    183|8476409419|          8|Estudios sobre el...| Jose Ortega Y Gaset|               2001|Downtown Book Center| 140574|porto, porto, por...|27.0|\n",
      "|    183|2070567842|          8|Folio Junior: L'h...|      Su>skind-Sempe|                  0|  Gallimard-Jeunesse| 235076|porto, porto, por...|27.0|\n",
      "|    183|8433920081|          0| El Almuerzo Desnudo|William S. Burroughs|               1995|            Anagrama| 234676|porto, porto, por...|27.0|\n",
      "|    183|225314696X|          0|Contes de fÃ?Â©es...|          Boris Vian|               2002|                 LGF|  61449|porto, porto, por...|27.0|\n",
      "+-------+----------+-----------+--------------------+--------------------+-------------------+--------------------+-------+--------------------+----+\n",
      "only showing top 10 rows\n",
      "\n"
     ]
    },
    {
     "data": {
      "text/plain": [
       "646957"
      ]
     },
     "execution_count": 14,
     "metadata": {},
     "output_type": "execute_result"
    }
   ],
   "source": [
    "spark_df=spark_df.join(users,\"User-ID\")\n",
    "spark_df.show(10)\n",
    "spark_df.count()"
   ]
  },
  {
   "cell_type": "code",
   "execution_count": 15,
   "id": "7824d6f2-4d95-4e44-8be5-9bdb99d3775d",
   "metadata": {
    "tags": []
   },
   "outputs": [],
   "source": [
    "spark_df=spark_df.dropna()"
   ]
  },
  {
   "cell_type": "code",
   "execution_count": 16,
   "id": "c52cde0d-bade-4ea0-8b28-0aca9fd2b1c5",
   "metadata": {
    "tags": []
   },
   "outputs": [
    {
     "name": "stdout",
     "output_type": "stream",
     "text": [
      "+-------+----------+-----------+--------------------+--------------------+-------------------+--------------------+-------+--------------------+----+\n",
      "|User-ID|      ISBN|Book-Rating|          Book-Title|         Book-Author|Year-Of-Publication|           Publisher|newISBN|            Location| Age|\n",
      "+-------+----------+-----------+--------------------+--------------------+-------------------+--------------------+-------+--------------------+----+\n",
      "|     78|0394895894|          8|The Ruby in the S...|      PHILIP PULLMAN|               1988|         Laurel Leaf| 113631|oakland, californ...|18.0|\n",
      "|     85|0340767936|          5|      Turning Thirty|          Mike Gayle|               2000|Hodder &amp; Stou...| 191962|london, england, ...|41.0|\n",
      "|     85|0743403843|          0|            Decipher|         Stel Pavlou|               2002|Simon &amp; Schus...|   3979|london, england, ...|41.0|\n",
      "|    133|0345372700|         10|If I Ever Get Bac...|      LEWIS GRIZZARD|               1991|    Ballantine Books| 104195|jacksonville, flo...|45.0|\n",
      "|    133|0446325805|          0|If Love Were Oil,...|      Lewis Grizzard|               1994|   Warner Books (Mm)| 142840|jacksonville, flo...|45.0|\n",
      "|    133|0380619458|          0|  The Mosquito Coast|        Paul Theroux|               1990|Harper Mass Marke...|  74098|jacksonville, flo...|45.0|\n",
      "|    183|8476409419|          8|Estudios sobre el...| Jose Ortega Y Gaset|               2001|Downtown Book Center| 140574|porto, porto, por...|27.0|\n",
      "|    183|2070567842|          8|Folio Junior: L'h...|      Su>skind-Sempe|                  0|  Gallimard-Jeunesse| 235076|porto, porto, por...|27.0|\n",
      "|    183|8433920081|          0| El Almuerzo Desnudo|William S. Burroughs|               1995|            Anagrama| 234676|porto, porto, por...|27.0|\n",
      "|    183|225314696X|          0|Contes de fÃ?Â©es...|          Boris Vian|               2002|                 LGF|  61449|porto, porto, por...|27.0|\n",
      "+-------+----------+-----------+--------------------+--------------------+-------------------+--------------------+-------+--------------------+----+\n",
      "only showing top 10 rows\n",
      "\n"
     ]
    }
   ],
   "source": [
    "spark_df.show(10)"
   ]
  },
  {
   "cell_type": "code",
   "execution_count": 17,
   "id": "e6983bb0-0b57-4922-9101-fe0ede52daba",
   "metadata": {
    "tags": []
   },
   "outputs": [
    {
     "name": "stdout",
     "output_type": "stream",
     "text": [
      "newISBN sütunundaki benzersiz değer sayısı: 242132\n"
     ]
    }
   ],
   "source": [
    "unique_newISBN_count = books_new.select(\"newISBN\").distinct().count()\n",
    "print(\"newISBN sütunundaki benzersiz değer sayısı:\", unique_newISBN_count)"
   ]
  },
  {
   "cell_type": "code",
   "execution_count": 18,
   "id": "8979a6fa-3da7-4ccc-a3f4-699434855ff1",
   "metadata": {
    "tags": []
   },
   "outputs": [
    {
     "name": "stdout",
     "output_type": "stream",
     "text": [
      "root\n",
      " |-- User-ID: integer (nullable = true)\n",
      " |-- ISBN: string (nullable = true)\n",
      " |-- Book-Rating: integer (nullable = true)\n",
      " |-- Book-Title: string (nullable = true)\n",
      " |-- Book-Author: string (nullable = true)\n",
      " |-- Year-Of-Publication: string (nullable = true)\n",
      " |-- Publisher: string (nullable = true)\n",
      " |-- newISBN: long (nullable = true)\n",
      " |-- Location: string (nullable = true)\n",
      " |-- Age: string (nullable = true)\n",
      "\n"
     ]
    }
   ],
   "source": [
    "spark_df.printSchema()"
   ]
  },
  {
   "cell_type": "code",
   "execution_count": 19,
   "id": "10cffbc6-a9fc-497d-82d9-bc6b4f382486",
   "metadata": {
    "tags": []
   },
   "outputs": [
    {
     "name": "stdout",
     "output_type": "stream",
     "text": [
      "+-------+----------+-----------+--------------------+-------------------+-------------------+--------------------+-------+--------------------+----+\n",
      "|User-ID|      ISBN|Book-Rating|          Book-Title|        Book-Author|Year-Of-Publication|           Publisher|newISBN|            Location| Age|\n",
      "+-------+----------+-----------+--------------------+-------------------+-------------------+--------------------+-------+--------------------+----+\n",
      "|     78|0394895894|          8|The Ruby in the S...|     PHILIP PULLMAN|               1988|         Laurel Leaf| 113631|oakland, californ...|18.0|\n",
      "|     85|0340767936|          5|      Turning Thirty|         Mike Gayle|               2000|Hodder &amp; Stou...| 191962|london, england, ...|41.0|\n",
      "|    133|0345372700|         10|If I Ever Get Bac...|     LEWIS GRIZZARD|               1991|    Ballantine Books| 104195|jacksonville, flo...|45.0|\n",
      "|    183|8476409419|          8|Estudios sobre el...|Jose Ortega Y Gaset|               2001|Downtown Book Center| 140574|porto, porto, por...|27.0|\n",
      "|    183|2070567842|          8|Folio Junior: L'h...|     Su>skind-Sempe|                  0|  Gallimard-Jeunesse| 235076|porto, porto, por...|27.0|\n",
      "|    183|8440630794|          7|Cuentos del Plane...|   Arthur C. Clarke|               1993|         Ediciones B| 138950|porto, porto, por...|27.0|\n",
      "|    183|847223973X|          9|Que Se Mueran Los...|         Boris Vian|               2002|            Tusquets|  11816|porto, porto, por...|27.0|\n",
      "|    362|0446606197|          7|Killer Market (De...|     Margaret Maron|               1999|        Warner Books|  27431|thunder bay, onta...|63.0|\n",
      "|    392|8478884963|          9| Una casa en Irlanda|       Maeve Binchy|               1999|          Salamandra| 115100|barcelona, catalu...|44.0|\n",
      "|    392|8475960936|          9|Les llengÃ¼es d'A...|   M. Carme Junyent|               1986| Editorial EmpÃºries| 163451|barcelona, catalu...|44.0|\n",
      "+-------+----------+-----------+--------------------+-------------------+-------------------+--------------------+-------+--------------------+----+\n",
      "only showing top 10 rows\n",
      "\n"
     ]
    },
    {
     "data": {
      "text/plain": [
       "231289"
      ]
     },
     "execution_count": 19,
     "metadata": {},
     "output_type": "execute_result"
    }
   ],
   "source": [
    "from pyspark.sql.functions import col\n",
    "\n",
    "spark_df = spark_df.filter(col(\"Book-Rating\") != 0)\n",
    "spark_df = spark_df.filter(col(\"Book-Author\") != \"Not Applicable (Na )\")\n",
    "spark_df.show(10)\n",
    "spark_df.count()"
   ]
  },
  {
   "cell_type": "code",
   "execution_count": 20,
   "id": "9dd95811-249e-4b00-8e55-e4789c5a4719",
   "metadata": {
    "tags": []
   },
   "outputs": [
    {
     "data": {
      "text/plain": [
       "{2006: 9.0,\n",
       " 2005: 8.15,\n",
       " 1971: 8.1171875,\n",
       " 1970: 8.10958904109589,\n",
       " 1974: 8.077844311377245,\n",
       " 2004: 7.925047438330171,\n",
       " 1976: 7.8913813459268,\n",
       " 1972: 7.887218045112782,\n",
       " 2003: 7.871341800110436,\n",
       " 1973: 7.847117794486215}"
      ]
     },
     "execution_count": 20,
     "metadata": {},
     "output_type": "execute_result"
    }
   ],
   "source": [
    "from pyspark.sql.functions import col, udf\n",
    "from pyspark.sql.types import BooleanType\n",
    "\n",
    "def is_valid_year(year):\n",
    "    try:\n",
    "        year = int(year)\n",
    "        return 1970 <= year <= 2023\n",
    "    except ValueError:\n",
    "        return False\n",
    "\n",
    "is_valid_year_udf = udf(is_valid_year, BooleanType())\n",
    "\n",
    "filtered_df = spark_df.filter(is_valid_year_udf(col('Year-Of-Publication')))\n",
    "filtered_df = filtered_df.withColumn('Year-Of-Publication', col('Year-Of-Publication').cast('int'))\n",
    "filtered_rdd = filtered_df.rdd\n",
    "\n",
    "mapped_rdd = filtered_rdd.map(lambda row: (row['Year-Of-Publication'], (row['Book-Rating'], 1)))\n",
    "\n",
    "reduce_output = mapped_rdd.reduceByKey(lambda x, y: (x[0] + y[0], x[1] + y[1]))\n",
    "\n",
    "average_ratings_rdd = reduce_output.map(lambda x: (x[0], x[1][0] / x[1][1]))\n",
    "\n",
    "result = average_ratings_rdd.collect()\n",
    "\n",
    "sorted_result = sorted(result, key=lambda x: x[1], reverse=True)[:10]\n",
    "top_years_dict = {year: count for year, count in sorted_result}\n",
    "top_years_dict\n"
   ]
  },
  {
   "cell_type": "code",
   "execution_count": 21,
   "id": "9860483f-f9cc-4e4e-953c-1b19f617e6be",
   "metadata": {
    "tags": []
   },
   "outputs": [
    {
     "name": "stdout",
     "output_type": "stream",
     "text": [
      "root\n",
      " |-- User-ID: integer (nullable = true)\n",
      " |-- ISBN: string (nullable = true)\n",
      " |-- Book-Rating: integer (nullable = true)\n",
      " |-- Book-Title: string (nullable = true)\n",
      " |-- Book-Author: string (nullable = true)\n",
      " |-- Year-Of-Publication: integer (nullable = true)\n",
      " |-- Publisher: string (nullable = true)\n",
      " |-- newISBN: long (nullable = true)\n",
      " |-- Location: string (nullable = true)\n",
      " |-- Age: string (nullable = true)\n",
      "\n"
     ]
    }
   ],
   "source": [
    "spark_df=filtered_df\n",
    "spark_df.printSchema()"
   ]
  },
  {
   "cell_type": "markdown",
   "id": "d7e01f5c-e994-4216-aaa7-01360aa90596",
   "metadata": {},
   "source": [
    "## 2)Visualition"
   ]
  },
  {
   "cell_type": "code",
   "execution_count": 22,
   "id": "60254439-6aa6-4b2e-9aa6-b969c43f2aed",
   "metadata": {
    "tags": []
   },
   "outputs": [
    {
     "name": "stdout",
     "output_type": "stream",
     "text": [
      "   Year  Avarage Ratings\n",
      "0  2006         9.000000\n",
      "1  2005         8.150000\n",
      "2  1971         8.117188\n",
      "3  1970         8.109589\n",
      "4  1974         8.077844\n",
      "5  2004         7.925047\n",
      "6  1976         7.891381\n",
      "7  1972         7.887218\n",
      "8  2003         7.871342\n",
      "9  1973         7.847118\n"
     ]
    }
   ],
   "source": [
    "df_pandas = pd.DataFrame(list(top_years_dict.items()), columns=['Year', 'Avarage Ratings'])\n",
    "print(df_pandas)"
   ]
  },
  {
   "cell_type": "code",
   "execution_count": 23,
   "id": "9f5d7c77-a124-411f-9b5f-8c88e4579099",
   "metadata": {
    "tags": []
   },
   "outputs": [
    {
     "data": {
      "text/plain": [
       "<Axes: xlabel='Year', ylabel='Avarage Ratings'>"
      ]
     },
     "execution_count": 23,
     "metadata": {},
     "output_type": "execute_result"
    },
    {
     "data": {
      "image/png": "[encoded data removed]",
      "text/plain": [
       "<Figure size 640x480 with 1 Axes>"
      ]
     },
     "metadata": {},
     "output_type": "display_data"
    }
   ],
   "source": [
    "import seaborn as sns\n",
    "sns.barplot(x=\"Year\",y=\"Avarage Ratings\",data=df_pandas)"
   ]
  },
  {
   "cell_type": "code",
   "execution_count": 24,
   "id": "a0e6cdc7-e9de-4c7a-9044-edddc4416139",
   "metadata": {
    "tags": []
   },
   "outputs": [
    {
     "data": {
      "text/plain": [
       "{2002: 22143,\n",
       " 2003: 19921,\n",
       " 2001: 18682,\n",
       " 2000: 16545,\n",
       " 1999: 16442,\n",
       " 1998: 14685,\n",
       " 1997: 13029,\n",
       " 1996: 12906,\n",
       " 1995: 11018,\n",
       " 1994: 9927}"
      ]
     },
     "execution_count": 24,
     "metadata": {},
     "output_type": "execute_result"
    }
   ],
   "source": [
    "rdd = spark_df.rdd\n",
    "mapped_rdd = rdd.map(lambda row: (row['Year-Of-Publication'], 1))\n",
    "reduce_output = mapped_rdd.reduceByKey(lambda x, y: x + y)\n",
    "result = reduce_output.collect()\n",
    "sorted_result = sorted(result, key=lambda x: x[1], reverse=True)[:10]\n",
    "top_years_dict_count = {year: count for year, count in sorted_result}\n",
    "top_years_dict_count"
   ]
  },
  {
   "cell_type": "code",
   "execution_count": 25,
   "id": "47151580-559d-4aa2-a34b-d356b03eb33f",
   "metadata": {
    "tags": []
   },
   "outputs": [
    {
     "name": "stdout",
     "output_type": "stream",
     "text": [
      "   Year  Book Count\n",
      "0  2002       22143\n",
      "1  2003       19921\n",
      "2  2001       18682\n",
      "3  2000       16545\n",
      "4  1999       16442\n",
      "5  1998       14685\n",
      "6  1997       13029\n",
      "7  1996       12906\n",
      "8  1995       11018\n",
      "9  1994        9927\n"
     ]
    }
   ],
   "source": [
    "import pandas as pd\n",
    "df_pandas = pd.DataFrame(list(top_years_dict_count.items()), columns=['Year', 'Book Count'])\n",
    "print(df_pandas)"
   ]
  },
  {
   "cell_type": "code",
   "execution_count": 26,
   "id": "43a70726-6dd4-48a5-8ee8-5084ff02c124",
   "metadata": {
    "tags": []
   },
   "outputs": [
    {
     "data": {
      "text/plain": [
       "<Axes: xlabel='Year', ylabel='Book Count'>"
      ]
     },
     "execution_count": 26,
     "metadata": {},
     "output_type": "execute_result"
    },
    {
     "data": {
      "image/png": "[encoded data removed]",
      "text/plain": [
       "<Figure size 640x480 with 1 Axes>"
      ]
     },
     "metadata": {},
     "output_type": "display_data"
    }
   ],
   "source": [
    "import seaborn as sns\n",
    "\n",
    "sns.barplot(x=\"Year\",y=\"Book Count\",data=df_pandas)"
   ]
  },
  {
   "cell_type": "code",
   "execution_count": 27,
   "id": "39055cc4-064d-4ce6-89bf-fb95d9afae7f",
   "metadata": {},
   "outputs": [
    {
     "data": {
      "text/plain": [
       "<Axes: xlabel='Book-Rating', ylabel='count'>"
      ]
     },
     "execution_count": 27,
     "metadata": {},
     "output_type": "execute_result"
    },
    {
     "data": {
      "image/png": "[encoded data removed]",
      "text/plain": [
       "<Figure size 640x480 with 1 Axes>"
      ]
     },
     "metadata": {},
     "output_type": "display_data"
    }
   ],
   "source": [
    "output=spark_df.groupby(\"Book-Rating\").count().toPandas()\n",
    "sns.barplot(x=output[\"Book-Rating\"],y=output[\"count\"],data=output)"
   ]
  },
  {
   "cell_type": "code",
   "execution_count": 28,
   "id": "0882b9b3-de97-418e-b26f-72758594c7d2",
   "metadata": {
    "tags": []
   },
   "outputs": [],
   "source": [
    "from pyspark.sql.functions import desc\n",
    "\n",
    "top_authors_df =books.groupby('Book-Author').count() \\\n",
    "                   .orderBy(desc('count')) \\\n",
    "                   .limit(10)\n"
   ]
  },
  {
   "cell_type": "code",
   "execution_count": 29,
   "id": "dbb6f8f9-575b-472f-847c-fee89d68d799",
   "metadata": {
    "tags": []
   },
   "outputs": [
    {
     "name": "stdout",
     "output_type": "stream",
     "text": [
      "+--------------------+-----+\n",
      "|         Book-Author|count|\n",
      "+--------------------+-----+\n",
      "| William Shakespeare|  491|\n",
      "|     Agatha Christie|  466|\n",
      "|       Ann M. Martin|  390|\n",
      "|       Carolyn Keene|  371|\n",
      "|     Francine Pascal|  339|\n",
      "|        Stephen King|  327|\n",
      "|    Barbara Cartland|  292|\n",
      "|        Isaac Asimov|  278|\n",
      "|         R. L. Stine|  276|\n",
      "|Not Applicable (Na )|  276|\n",
      "+--------------------+-----+\n",
      "\n"
     ]
    }
   ],
   "source": [
    "top_authors_df.show(10)"
   ]
  },
  {
   "cell_type": "code",
   "execution_count": 30,
   "id": "d4cd1047-f3cf-4f20-89e7-908d9d5e7c49",
   "metadata": {
    "tags": []
   },
   "outputs": [
    {
     "name": "stdout",
     "output_type": "stream",
     "text": [
      "            Book-Author  count\n",
      "0   William Shakespeare    491\n",
      "1       Agatha Christie    466\n",
      "2         Ann M. Martin    390\n",
      "3         Carolyn Keene    371\n",
      "4       Francine Pascal    339\n",
      "5          Stephen King    327\n",
      "6      Barbara Cartland    292\n",
      "7          Isaac Asimov    278\n",
      "8           R. L. Stine    276\n",
      "9  Not Applicable (Na )    276\n"
     ]
    }
   ],
   "source": [
    "top_authors_pd = top_authors_df.limit(10).toPandas()\n",
    "print(top_authors_pd)"
   ]
  },
  {
   "cell_type": "code",
   "execution_count": 31,
   "id": "1478c24e-2acd-4b79-8a12-21c6ebbea8d5",
   "metadata": {
    "tags": []
   },
   "outputs": [
    {
     "data": {
      "image/png": "[encoded data removed]",
      "text/plain": [
       "<Figure size 1000x600 with 1 Axes>"
      ]
     },
     "metadata": {},
     "output_type": "display_data"
    }
   ],
   "source": [
    "import matplotlib.pyplot as plt\n",
    "\n",
    "plt.figure(figsize=(10, 6))\n",
    "sns.barplot(x=top_authors_pd[\"Book-Author\"], y=top_authors_pd[\"count\"], data=top_authors_pd)\n",
    "plt.xticks(rotation=90)  \n",
    "plt.xlabel('Yazar')\n",
    "plt.ylabel('Kitap Sayısı')\n",
    "plt.title('En Çok Kitabı Basılan Yazar')\n",
    "plt.show()"
   ]
  },
  {
   "cell_type": "code",
   "execution_count": 32,
   "id": "fdfeaa9d-450a-4b03-b81a-844d468c8252",
   "metadata": {
    "tags": []
   },
   "outputs": [
    {
     "name": "stdout",
     "output_type": "stream",
     "text": [
      "+-------------------+-----------------+\n",
      "|        Book-Author|   Average-Rating|\n",
      "+-------------------+-----------------+\n",
      "|       Stephen King| 7.98452157598499|\n",
      "|       Isaac Asimov|8.037974683544304|\n",
      "|William Shakespeare|8.367272727272727|\n",
      "|    Francine Pascal|6.825806451612904|\n",
      "|    Agatha Christie|7.963718820861678|\n",
      "|        R. L. Stine|6.955380577427822|\n",
      "|      Ann M. Martin|7.057471264367816|\n",
      "|      Carolyn Keene|7.963350785340314|\n",
      "|   Barbara Cartland|              6.6|\n",
      "+-------------------+-----------------+\n",
      "\n"
     ]
    }
   ],
   "source": [
    "from pyspark.sql.functions import avg\n",
    "author_book_counts_df = spark_df.groupBy('Book-Author').count()\n",
    "\n",
    "top_authors_avg_rating_df = spark_df.join(top_authors_df, 'Book-Author') \\\n",
    "                               .groupBy('Book-Author') \\\n",
    "                               .agg(avg('Book-Rating').alias('Average-Rating'))\n",
    "top_authors_avg_rating_df.show()"
   ]
  },
  {
   "cell_type": "code",
   "execution_count": 33,
   "id": "5a412012-0956-4edf-a6c3-19e793481694",
   "metadata": {
    "tags": []
   },
   "outputs": [
    {
     "data": {
      "text/html": [
       "<div>\n",
       "<style scoped>\n",
       "    .dataframe tbody tr th:only-of-type {\n",
       "        vertical-align: middle;\n",
       "    }\n",
       "\n",
       "    .dataframe tbody tr th {\n",
       "        vertical-align: top;\n",
       "    }\n",
       "\n",
       "    .dataframe thead th {\n",
       "        text-align: right;\n",
       "    }\n",
       "</style>\n",
       "<table border=\"1\" class=\"dataframe\">\n",
       "  <thead>\n",
       "    <tr style=\"text-align: right;\">\n",
       "      <th></th>\n",
       "      <th>Book-Author</th>\n",
       "      <th>Average-Rating</th>\n",
       "    </tr>\n",
       "  </thead>\n",
       "  <tbody>\n",
       "    <tr>\n",
       "      <th>0</th>\n",
       "      <td>Stephen King</td>\n",
       "      <td>7.984522</td>\n",
       "    </tr>\n",
       "    <tr>\n",
       "      <th>1</th>\n",
       "      <td>Isaac Asimov</td>\n",
       "      <td>8.037975</td>\n",
       "    </tr>\n",
       "    <tr>\n",
       "      <th>2</th>\n",
       "      <td>William Shakespeare</td>\n",
       "      <td>8.367273</td>\n",
       "    </tr>\n",
       "    <tr>\n",
       "      <th>3</th>\n",
       "      <td>Francine Pascal</td>\n",
       "      <td>6.825806</td>\n",
       "    </tr>\n",
       "    <tr>\n",
       "      <th>4</th>\n",
       "      <td>Agatha Christie</td>\n",
       "      <td>7.963719</td>\n",
       "    </tr>\n",
       "    <tr>\n",
       "      <th>5</th>\n",
       "      <td>R. L. Stine</td>\n",
       "      <td>6.955381</td>\n",
       "    </tr>\n",
       "    <tr>\n",
       "      <th>6</th>\n",
       "      <td>Ann M. Martin</td>\n",
       "      <td>7.057471</td>\n",
       "    </tr>\n",
       "    <tr>\n",
       "      <th>7</th>\n",
       "      <td>Carolyn Keene</td>\n",
       "      <td>7.963351</td>\n",
       "    </tr>\n",
       "    <tr>\n",
       "      <th>8</th>\n",
       "      <td>Barbara Cartland</td>\n",
       "      <td>6.600000</td>\n",
       "    </tr>\n",
       "  </tbody>\n",
       "</table>\n",
       "</div>"
      ],
      "text/plain": [
       "           Book-Author  Average-Rating\n",
       "0         Stephen King        7.984522\n",
       "1         Isaac Asimov        8.037975\n",
       "2  William Shakespeare        8.367273\n",
       "3      Francine Pascal        6.825806\n",
       "4      Agatha Christie        7.963719\n",
       "5          R. L. Stine        6.955381\n",
       "6        Ann M. Martin        7.057471\n",
       "7        Carolyn Keene        7.963351\n",
       "8     Barbara Cartland        6.600000"
      ]
     },
     "execution_count": 33,
     "metadata": {},
     "output_type": "execute_result"
    }
   ],
   "source": [
    "top_authors_avg_rating_pd = top_authors_avg_rating_df.limit(10).toPandas()\n",
    "top_authors_avg_rating_pd"
   ]
  },
  {
   "cell_type": "code",
   "execution_count": 34,
   "id": "a5cbf08a-95ac-46c3-bb36-db933b1a6b9a",
   "metadata": {
    "tags": []
   },
   "outputs": [
    {
     "data": {
      "image/png": "[encoded data removed]",
      "text/plain": [
       "<Figure size 1000x600 with 1 Axes>"
      ]
     },
     "metadata": {},
     "output_type": "display_data"
    }
   ],
   "source": [
    "plt.figure(figsize=(10, 6))\n",
    "sns.barplot(x=top_authors_avg_rating_pd[\"Book-Author\"], y=top_authors_avg_rating_pd[\"Average-Rating\"], data=top_authors_avg_rating_pd)\n",
    "plt.xticks(rotation=90)  \n",
    "plt.xlabel('Yazar')\n",
    "plt.ylabel('Kitap Sayısı')\n",
    "plt.title('En Çok Kitabı Basılan Yazarların Puan Ortalaması')\n",
    "plt.show()"
   ]
  },
  {
   "cell_type": "markdown",
   "id": "2daa7c3d-959b-4455-90f8-8aa8c62c3b68",
   "metadata": {},
   "source": [
    "## 3)ALS Model ile Eğitim"
   ]
  },
  {
   "cell_type": "code",
   "execution_count": 35,
   "id": "963625a6-2259-41f6-bf1d-6e820bb8ce0a",
   "metadata": {
    "tags": []
   },
   "outputs": [],
   "source": [
    "(train, test) = spark_df.randomSplit([0.7, 0.3])"
   ]
  },
  {
   "cell_type": "code",
   "execution_count": 36,
   "id": "88dd09c8-ad02-41f1-a3cc-a7eea47d93de",
   "metadata": {
    "tags": []
   },
   "outputs": [
    {
     "data": {
      "text/plain": [
       "157794"
      ]
     },
     "execution_count": 36,
     "metadata": {},
     "output_type": "execute_result"
    }
   ],
   "source": [
    "train.count()"
   ]
  },
  {
   "cell_type": "code",
   "execution_count": 37,
   "id": "9a3e9e1a-e738-4fa4-a562-c6bd9772143a",
   "metadata": {
    "tags": []
   },
   "outputs": [
    {
     "data": {
      "text/plain": [
       "68099"
      ]
     },
     "execution_count": 37,
     "metadata": {},
     "output_type": "execute_result"
    }
   ],
   "source": [
    "test.count()"
   ]
  },
  {
   "cell_type": "code",
   "execution_count": 38,
   "id": "71f973cc-c478-4cdd-927e-a6d6a6d420b7",
   "metadata": {
    "tags": []
   },
   "outputs": [
    {
     "data": {
      "text/plain": [
       "225893"
      ]
     },
     "execution_count": 38,
     "metadata": {},
     "output_type": "execute_result"
    }
   ],
   "source": [
    "spark_df.count()"
   ]
  },
  {
   "cell_type": "code",
   "execution_count": 39,
   "id": "69dcf44a-855e-45ee-bd53-99f92af7fa8e",
   "metadata": {
    "tags": []
   },
   "outputs": [
    {
     "name": "stdout",
     "output_type": "stream",
     "text": [
      "Parameters: Rank=10, Iteration=10, Lambda=0.01\n",
      "RMSE: 7.396422025149701, MSE: 54.7070587741196\n",
      "---------------------------------------------\n",
      "Parameters: Rank=10, Iteration=10, Lambda=0.1\n",
      "RMSE: 4.248729438260892, MSE: 18.05170183954472\n",
      "---------------------------------------------\n",
      "Parameters: Rank=10, Iteration=12, Lambda=0.01\n",
      "RMSE: 7.0127188573554795, MSE: 49.17822577230914\n",
      "---------------------------------------------\n",
      "Parameters: Rank=10, Iteration=12, Lambda=0.1\n",
      "RMSE: 3.9731342947492863, MSE: 15.785796124112908\n",
      "---------------------------------------------\n",
      "Parameters: Rank=10, Iteration=15, Lambda=0.01\n",
      "RMSE: 6.566927192446582, MSE: 43.124532750894346\n",
      "---------------------------------------------\n",
      "Parameters: Rank=10, Iteration=15, Lambda=0.1\n",
      "RMSE: 3.6847957395167303, MSE: 13.577719641960647\n",
      "---------------------------------------------\n",
      "Parameters: Rank=50, Iteration=10, Lambda=0.01\n",
      "RMSE: 6.232309504434616, MSE: 38.84168175906605\n",
      "---------------------------------------------\n",
      "Parameters: Rank=50, Iteration=10, Lambda=0.1\n",
      "RMSE: 3.933763761119626, MSE: 15.474497328298026\n",
      "---------------------------------------------\n",
      "Parameters: Rank=50, Iteration=12, Lambda=0.01\n",
      "RMSE: 5.961296068116456, MSE: 35.53705081174072\n",
      "---------------------------------------------\n",
      "Parameters: Rank=50, Iteration=12, Lambda=0.1\n",
      "RMSE: 3.669686525990146, MSE: 13.466599199033627\n",
      "---------------------------------------------\n",
      "Parameters: Rank=50, Iteration=15, Lambda=0.01\n",
      "RMSE: 5.626672260335415, MSE: 31.65944072522806\n",
      "---------------------------------------------\n",
      "Parameters: Rank=50, Iteration=15, Lambda=0.1\n",
      "RMSE: 3.406995424856927, MSE: 11.607617824996034\n",
      "---------------------------------------------\n",
      "Parameters: Rank=200, Iteration=10, Lambda=0.01\n",
      "RMSE: 5.859275651592419, MSE: 34.33111116134377\n",
      "---------------------------------------------\n",
      "Parameters: Rank=200, Iteration=10, Lambda=0.1\n",
      "RMSE: 3.704497205455943, MSE: 13.72329954523089\n",
      "---------------------------------------------\n",
      "Parameters: Rank=200, Iteration=12, Lambda=0.01\n",
      "RMSE: 5.614447689640035, MSE: 31.522022859704325\n",
      "---------------------------------------------\n",
      "Parameters: Rank=200, Iteration=12, Lambda=0.1\n",
      "RMSE: 3.4875944069083813, MSE: 12.163314747098623\n",
      "---------------------------------------------\n",
      "Parameters: Rank=200, Iteration=15, Lambda=0.01\n",
      "RMSE: 5.3126876316336356, MSE: 28.224649871313012\n",
      "---------------------------------------------\n",
      "Parameters: Rank=200, Iteration=15, Lambda=0.1\n",
      "RMSE: 3.27754589031418, MSE: 10.742307063115373\n",
      "---------------------------------------------\n",
      "Best Parameters: {'rank': 200, 'iteration': 15, 'lambda': 0.1}\n",
      "Best RMSE: 3.27754589031418\n"
     ]
    }
   ],
   "source": [
    "from pyspark.ml.recommendation import ALS\n",
    "from pyspark.ml.evaluation import RegressionEvaluator\n",
    "from pyspark.ml.recommendation import ALS\n",
    "from pyspark.ml.evaluation import RegressionEvaluator\n",
    "import matplotlib.pyplot as plt\n",
    "import pandas as pd\n",
    "\n",
    "ranks = [10, 50, 200]\n",
    "iterations = [10, 12, 15]\n",
    "lambdas = [0.01, 0.1]\n",
    "results = []\n",
    "\n",
    "best_rmse = float(\"inf\")\n",
    "best_model = None\n",
    "best_params = None\n",
    "\n",
    "for rank in ranks:\n",
    "    for iteration in iterations:\n",
    "        for reg_param in lambdas:\n",
    "            als = ALS(maxIter=iteration, regParam=reg_param, rank=rank, seed=5071,\n",
    "                      userCol=\"User-ID\", itemCol=\"newISBN\", ratingCol=\"Book-Rating\",\n",
    "                      coldStartStrategy=\"drop\")\n",
    "\n",
    "            model = als.fit(train)\n",
    "\n",
    "            predictions = model.transform(test)\n",
    "            \n",
    "            evaluator_rmse = RegressionEvaluator(metricName=\"rmse\", labelCol=\"Book-Rating\", predictionCol=\"prediction\")\n",
    "            evaluator_mse = RegressionEvaluator(metricName=\"mse\", labelCol=\"Book-Rating\", predictionCol=\"prediction\")\n",
    "            rmse = evaluator_rmse.evaluate(predictions)\n",
    "            mse = evaluator_mse.evaluate(predictions)\n",
    "            \n",
    "            print(f\"Parameters: Rank={rank}, Iteration={iteration}, Lambda={reg_param}\")\n",
    "            print(f\"RMSE: {rmse}, MSE: {mse}\")\n",
    "            results.append({\"rank\": rank, \"iteration\": iteration, \"lambda\": reg_param, \"rmse\": rmse})\n",
    "\n",
    "            print(\"---------------------------------------------\")\n",
    "            \n",
    "            if rmse < best_rmse:\n",
    "                best_rmse = rmse\n",
    "                best_model = model\n",
    "                best_params = {\"rank\": rank, \"iteration\": iteration, \"lambda\": reg_param}\n",
    "\n",
    "print(\"Best Parameters:\", best_params)\n",
    "print(\"Best RMSE:\", best_rmse)\n",
    "\n",
    "\n",
    "\n"
   ]
  },
  {
   "cell_type": "code",
   "execution_count": 40,
   "id": "b06cde3f-0d5a-4692-93ed-5b7461e2701a",
   "metadata": {},
   "outputs": [
    {
     "data": {
      "image/png": "[encoded data removed]",
      "text/plain": [
       "<Figure size 1200x800 with 1 Axes>"
      ]
     },
     "metadata": {},
     "output_type": "display_data"
    }
   ],
   "source": [
    "results_df = pd.DataFrame(results)\n",
    "plt.figure(figsize=(12, 8))\n",
    "plt.bar(results_df.index, results_df['rmse'], color='blue')\n",
    "plt.xlabel('Model Index')\n",
    "plt.ylabel('RMSE')\n",
    "plt.show()"
   ]
  },
  {
   "cell_type": "code",
   "execution_count": 41,
   "id": "50316120-4aaf-4b06-926b-5ecc56d6b646",
   "metadata": {
    "tags": []
   },
   "outputs": [],
   "source": [
    "model=best_model"
   ]
  },
  {
   "cell_type": "code",
   "execution_count": 42,
   "id": "3d989e70-51a3-497c-8474-75dc2fa77c39",
   "metadata": {
    "tags": []
   },
   "outputs": [],
   "source": [
    "from pyspark.sql.functions import lit\n",
    "\n",
    "\n",
    "comparison_df = predictions.select(\"newISBN\",\"Book-Rating\", \"prediction\")\n",
    "\n",
    "comparison_pd = comparison_df.toPandas()"
   ]
  },
  {
   "cell_type": "code",
   "execution_count": 43,
   "id": "4dc1a408-6b2c-46b7-9017-1a29b5cdc531",
   "metadata": {
    "tags": []
   },
   "outputs": [
    {
     "data": {
      "text/html": [
       "<div>\n",
       "<style scoped>\n",
       "    .dataframe tbody tr th:only-of-type {\n",
       "        vertical-align: middle;\n",
       "    }\n",
       "\n",
       "    .dataframe tbody tr th {\n",
       "        vertical-align: top;\n",
       "    }\n",
       "\n",
       "    .dataframe thead th {\n",
       "        text-align: right;\n",
       "    }\n",
       "</style>\n",
       "<table border=\"1\" class=\"dataframe\">\n",
       "  <thead>\n",
       "    <tr style=\"text-align: right;\">\n",
       "      <th></th>\n",
       "      <th>newISBN</th>\n",
       "      <th>Book-Rating</th>\n",
       "      <th>prediction</th>\n",
       "    </tr>\n",
       "  </thead>\n",
       "  <tbody>\n",
       "    <tr>\n",
       "      <th>0</th>\n",
       "      <td>53</td>\n",
       "      <td>8</td>\n",
       "      <td>3.630898</td>\n",
       "    </tr>\n",
       "    <tr>\n",
       "      <th>1</th>\n",
       "      <td>53</td>\n",
       "      <td>7</td>\n",
       "      <td>6.781388</td>\n",
       "    </tr>\n",
       "    <tr>\n",
       "      <th>2</th>\n",
       "      <td>53</td>\n",
       "      <td>10</td>\n",
       "      <td>9.177448</td>\n",
       "    </tr>\n",
       "    <tr>\n",
       "      <th>3</th>\n",
       "      <td>53</td>\n",
       "      <td>8</td>\n",
       "      <td>7.423463</td>\n",
       "    </tr>\n",
       "    <tr>\n",
       "      <th>4</th>\n",
       "      <td>53</td>\n",
       "      <td>8</td>\n",
       "      <td>7.079103</td>\n",
       "    </tr>\n",
       "    <tr>\n",
       "      <th>5</th>\n",
       "      <td>53</td>\n",
       "      <td>10</td>\n",
       "      <td>9.137451</td>\n",
       "    </tr>\n",
       "    <tr>\n",
       "      <th>6</th>\n",
       "      <td>53</td>\n",
       "      <td>7</td>\n",
       "      <td>7.088414</td>\n",
       "    </tr>\n",
       "    <tr>\n",
       "      <th>7</th>\n",
       "      <td>53</td>\n",
       "      <td>7</td>\n",
       "      <td>7.497637</td>\n",
       "    </tr>\n",
       "    <tr>\n",
       "      <th>8</th>\n",
       "      <td>53</td>\n",
       "      <td>9</td>\n",
       "      <td>8.363628</td>\n",
       "    </tr>\n",
       "    <tr>\n",
       "      <th>9</th>\n",
       "      <td>53</td>\n",
       "      <td>5</td>\n",
       "      <td>6.452768</td>\n",
       "    </tr>\n",
       "    <tr>\n",
       "      <th>10</th>\n",
       "      <td>53</td>\n",
       "      <td>6</td>\n",
       "      <td>5.520797</td>\n",
       "    </tr>\n",
       "    <tr>\n",
       "      <th>11</th>\n",
       "      <td>53</td>\n",
       "      <td>9</td>\n",
       "      <td>7.439055</td>\n",
       "    </tr>\n",
       "    <tr>\n",
       "      <th>12</th>\n",
       "      <td>53</td>\n",
       "      <td>6</td>\n",
       "      <td>5.984554</td>\n",
       "    </tr>\n",
       "    <tr>\n",
       "      <th>13</th>\n",
       "      <td>137</td>\n",
       "      <td>10</td>\n",
       "      <td>4.444398</td>\n",
       "    </tr>\n",
       "    <tr>\n",
       "      <th>14</th>\n",
       "      <td>497</td>\n",
       "      <td>7</td>\n",
       "      <td>4.045090</td>\n",
       "    </tr>\n",
       "    <tr>\n",
       "      <th>15</th>\n",
       "      <td>516</td>\n",
       "      <td>10</td>\n",
       "      <td>3.231351</td>\n",
       "    </tr>\n",
       "    <tr>\n",
       "      <th>16</th>\n",
       "      <td>516</td>\n",
       "      <td>10</td>\n",
       "      <td>2.948034</td>\n",
       "    </tr>\n",
       "    <tr>\n",
       "      <th>17</th>\n",
       "      <td>516</td>\n",
       "      <td>10</td>\n",
       "      <td>4.519887</td>\n",
       "    </tr>\n",
       "    <tr>\n",
       "      <th>18</th>\n",
       "      <td>633</td>\n",
       "      <td>7</td>\n",
       "      <td>3.816298</td>\n",
       "    </tr>\n",
       "    <tr>\n",
       "      <th>19</th>\n",
       "      <td>918</td>\n",
       "      <td>5</td>\n",
       "      <td>5.450095</td>\n",
       "    </tr>\n",
       "  </tbody>\n",
       "</table>\n",
       "</div>"
      ],
      "text/plain": [
       "    newISBN  Book-Rating  prediction\n",
       "0        53            8    3.630898\n",
       "1        53            7    6.781388\n",
       "2        53           10    9.177448\n",
       "3        53            8    7.423463\n",
       "4        53            8    7.079103\n",
       "5        53           10    9.137451\n",
       "6        53            7    7.088414\n",
       "7        53            7    7.497637\n",
       "8        53            9    8.363628\n",
       "9        53            5    6.452768\n",
       "10       53            6    5.520797\n",
       "11       53            9    7.439055\n",
       "12       53            6    5.984554\n",
       "13      137           10    4.444398\n",
       "14      497            7    4.045090\n",
       "15      516           10    3.231351\n",
       "16      516           10    2.948034\n",
       "17      516           10    4.519887\n",
       "18      633            7    3.816298\n",
       "19      918            5    5.450095"
      ]
     },
     "execution_count": 43,
     "metadata": {},
     "output_type": "execute_result"
    }
   ],
   "source": [
    "comparison_pd.head(20)"
   ]
  },
  {
   "cell_type": "markdown",
   "id": "a48f8caf-3bfa-4a25-befc-8661516b4a62",
   "metadata": {},
   "source": [
    "## 4)Cosine Similarity"
   ]
  },
  {
   "cell_type": "code",
   "execution_count": 44,
   "id": "54658f13-2f60-4b58-8eaf-a69b44e4cac6",
   "metadata": {
    "tags": []
   },
   "outputs": [],
   "source": [
    "import numpy as np\n",
    "from pyspark.sql.functions import col\n",
    "from pyspark.ml.feature import BucketedRandomProjectionLSH\n",
    "from pyspark.ml.linalg import Vectors\n",
    "from pyspark.sql.functions import udf\n",
    "from pyspark.sql.types import DoubleType\n",
    "\n",
    "def cosineSimilarity(item_id1, item_id2, a, b):\n",
    "    dot_product = np.dot(a, b)\n",
    "    norm_a = np.linalg.norm(a)\n",
    "    norm_b = np.linalg.norm(b)\n",
    "    cos_similarity = dot_product / (norm_a * norm_b)\n",
    "    return item_id1, item_id2, cos_similarity"
   ]
  },
  {
   "cell_type": "code",
   "execution_count": 47,
   "id": "a68946ba-b262-481d-a6c8-35cb4bc761f7",
   "metadata": {
    "tags": []
   },
   "outputs": [],
   "source": [
    "item_id1 = 53\n",
    "item_id2 = 53"
   ]
  },
  {
   "cell_type": "code",
   "execution_count": 48,
   "id": "943f8654-ad57-47fa-86aa-bbbe31473d9f",
   "metadata": {
    "tags": []
   },
   "outputs": [],
   "source": [
    "item_vector1 = model.itemFactors.filter(col(\"id\") == item_id1).select(\"features\").collect()[0][\"features\"]\n",
    "item_vector2 = model.itemFactors.filter(col(\"id\") == item_id2).select(\"features\").collect()[0][\"features\"]"
   ]
  },
  {
   "cell_type": "code",
   "execution_count": 49,
   "id": "603aa2e6-0ab4-49f7-9c55-a5a31ce9b848",
   "metadata": {
    "tags": []
   },
   "outputs": [
    {
     "data": {
      "text/plain": [
       "(53, 53, 1.0)"
      ]
     },
     "execution_count": 49,
     "metadata": {},
     "output_type": "execute_result"
    }
   ],
   "source": [
    "cosineSimilarity(item_id1,item_id2,item_vector1,item_vector2)"
   ]
  },
  {
   "cell_type": "markdown",
   "id": "d224011f-3d1c-45f8-820a-85103f8a047f",
   "metadata": {},
   "source": [
    "# 5)Recommend System"
   ]
  },
  {
   "cell_type": "code",
   "execution_count": 50,
   "id": "00b9ca62-c706-4bc2-8233-bb6f63a98285",
   "metadata": {
    "tags": []
   },
   "outputs": [],
   "source": [
    "from pyspark.sql.functions import col\n",
    "\n",
    "def getUsersForBook(bookISBN, numUsers, Users):\n",
    "    bookUsers = model.recommendForAllItems(numUsers).filter(col(\"newISBN\") == bookISBN)\n",
    "    userDF = spark.createDataFrame(bookUsers.collect()[0].recommendations)\n",
    "    \n",
    "    userDF = userDF.join(Users, userDF[\"User-ID\"] == Users[\"User-ID\"], \"inner\") \\\n",
    "                           .select(userDF[\"User-ID\"], Users[\"Location\"], Users[\"Age\"], userDF[\"Rating\"])\n",
    "    \n",
    "    return userDF\n",
    "\n"
   ]
  },
  {
   "cell_type": "code",
   "execution_count": 51,
   "id": "312b2b72-a676-4ec5-9402-11b362d814d4",
   "metadata": {
    "tags": []
   },
   "outputs": [
    {
     "ename": "IndexError",
     "evalue": "list index out of range",
     "output_type": "error",
     "traceback": [
      "\u001b[0;31m---------------------------------------------------------------------------\u001b[0m",
      "\u001b[0;31mIndexError\u001b[0m                                Traceback (most recent call last)",
      "Cell \u001b[0;32mIn[51], line 1\u001b[0m\n\u001b[0;32m----> 1\u001b[0m topUsersForBook \u001b[38;5;241m=\u001b[39m \u001b[43mgetUsersForBook\u001b[49m\u001b[43m(\u001b[49m\u001b[38;5;241;43m146680\u001b[39;49m\u001b[43m,\u001b[49m\u001b[43m \u001b[49m\u001b[38;5;241;43m10\u001b[39;49m\u001b[43m,\u001b[49m\u001b[43musers\u001b[49m\u001b[43m)\u001b[49m\n\u001b[1;32m      2\u001b[0m topUsersForBook\u001b[38;5;241m.\u001b[39mshow()\n",
      "Cell \u001b[0;32mIn[50], line 5\u001b[0m, in \u001b[0;36mgetUsersForBook\u001b[0;34m(bookISBN, numUsers, Users)\u001b[0m\n\u001b[1;32m      3\u001b[0m \u001b[38;5;28;01mdef\u001b[39;00m \u001b[38;5;21mgetUsersForBook\u001b[39m(bookISBN, numUsers, Users):\n\u001b[1;32m      4\u001b[0m     bookUsers \u001b[38;5;241m=\u001b[39m model\u001b[38;5;241m.\u001b[39mrecommendForAllItems(numUsers)\u001b[38;5;241m.\u001b[39mfilter(col(\u001b[38;5;124m\"\u001b[39m\u001b[38;5;124mnewISBN\u001b[39m\u001b[38;5;124m\"\u001b[39m) \u001b[38;5;241m==\u001b[39m bookISBN)\n\u001b[0;32m----> 5\u001b[0m     userDF \u001b[38;5;241m=\u001b[39m spark\u001b[38;5;241m.\u001b[39mcreateDataFrame(\u001b[43mbookUsers\u001b[49m\u001b[38;5;241;43m.\u001b[39;49m\u001b[43mcollect\u001b[49m\u001b[43m(\u001b[49m\u001b[43m)\u001b[49m\u001b[43m[\u001b[49m\u001b[38;5;241;43m0\u001b[39;49m\u001b[43m]\u001b[49m\u001b[38;5;241m.\u001b[39mrecommendations)\n\u001b[1;32m      7\u001b[0m     userDF \u001b[38;5;241m=\u001b[39m userDF\u001b[38;5;241m.\u001b[39mjoin(Users, userDF[\u001b[38;5;124m\"\u001b[39m\u001b[38;5;124mUser-ID\u001b[39m\u001b[38;5;124m\"\u001b[39m] \u001b[38;5;241m==\u001b[39m Users[\u001b[38;5;124m\"\u001b[39m\u001b[38;5;124mUser-ID\u001b[39m\u001b[38;5;124m\"\u001b[39m], \u001b[38;5;124m\"\u001b[39m\u001b[38;5;124minner\u001b[39m\u001b[38;5;124m\"\u001b[39m) \\\n\u001b[1;32m      8\u001b[0m                            \u001b[38;5;241m.\u001b[39mselect(userDF[\u001b[38;5;124m\"\u001b[39m\u001b[38;5;124mUser-ID\u001b[39m\u001b[38;5;124m\"\u001b[39m], Users[\u001b[38;5;124m\"\u001b[39m\u001b[38;5;124mLocation\u001b[39m\u001b[38;5;124m\"\u001b[39m], Users[\u001b[38;5;124m\"\u001b[39m\u001b[38;5;124mAge\u001b[39m\u001b[38;5;124m\"\u001b[39m], userDF[\u001b[38;5;124m\"\u001b[39m\u001b[38;5;124mRating\u001b[39m\u001b[38;5;124m\"\u001b[39m])\n\u001b[1;32m     10\u001b[0m     \u001b[38;5;28;01mreturn\u001b[39;00m userDF\n",
      "\u001b[0;31mIndexError\u001b[0m: list index out of range"
     ]
    }
   ],
   "source": [
    "topUsersForBook = getUsersForBook(146680, 10,users)\n",
    "topUsersForBook.show()"
   ]
  },
  {
   "cell_type": "code",
   "execution_count": null,
   "id": "a87bf08d-485b-4e10-8cfb-9cc7ea1c6ff0",
   "metadata": {},
   "outputs": [],
   "source": [
    "train.show(20)"
   ]
  },
  {
   "cell_type": "code",
   "execution_count": null,
   "id": "13d88d2f-c5c4-48c3-b8dc-0c828f322371",
   "metadata": {},
   "outputs": [],
   "source": []
  }
 ],
 "metadata": {
  "kernelspec": {
   "display_name": "Python 3 (ipykernel)",
   "language": "python",
   "name": "python3"
  },
  "language_info": {
   "codemirror_mode": {
    "name": "ipython",
    "version": 3
   },
   "file_extension": ".py",
   "mimetype": "text/x-python",
   "name": "python",
   "nbconvert_exporter": "python",
   "pygments_lexer": "ipython3",
   "version": "3.12.7"
  }
 },
 "nbformat": 4,
 "nbformat_minor": 5
}
